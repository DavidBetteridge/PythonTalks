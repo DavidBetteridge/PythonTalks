{
 "cells": [
  {
   "cell_type": "code",
   "execution_count": 1,
   "metadata": {},
   "outputs": [],
   "source": [
    "from typing import Optional, TypeVar, Callable, List\n",
    "from datetime import datetime"
   ]
  },
  {
   "cell_type": "code",
   "execution_count": 2,
   "metadata": {},
   "outputs": [
    {
     "data": {
      "text/plain": [
       "2"
      ]
     },
     "execution_count": 2,
     "metadata": {},
     "output_type": "execute_result"
    }
   ],
   "source": [
    "# Start with a simple fn.  (str to int)\n",
    "def count_vowels(s: str) -> int:\n",
    "  return s.count('a') + s.count('e') + s.count('i') + s.count('o') + s.count('u')\n",
    "\n",
    "count_vowels(\"David\")"
   ]
  },
  {
   "cell_type": "code",
   "execution_count": null,
   "metadata": {},
   "outputs": [],
   "source": [
    "# It doesn't work if a can be optional.\n",
    "a: Optional[str] = None\n",
    "if datetime.now().year == 2022:\n",
    "  a = \"banana\"\n",
    "\n",
    "count_vowels(a)  #Error\n",
    "\n",
    "# (we want the count_vowels of None to be None)"
   ]
  },
  {
   "cell_type": "code",
   "execution_count": 3,
   "metadata": {},
   "outputs": [],
   "source": [
    "# Implement m (without any types for now)\n",
    "def m(f, a):\n",
    "  if a is None:\n",
    "    return None\n",
    "  else:\n",
    "    return f(a)\n"
   ]
  },
  {
   "cell_type": "code",
   "execution_count": 4,
   "metadata": {},
   "outputs": [
    {
     "data": {
      "text/plain": [
       "3"
      ]
     },
     "execution_count": 4,
     "metadata": {},
     "output_type": "execute_result"
    }
   ],
   "source": [
    "# It works\n",
    "m(count_vowels, None)\n",
    "m(count_vowels, \"banana\")"
   ]
  },
  {
   "cell_type": "code",
   "execution_count": 7,
   "metadata": {},
   "outputs": [],
   "source": [
    "# What if we have a list rather than an optional type?\n",
    "l = [\"apple\", \"banana\", \"carrot\"]"
   ]
  },
  {
   "cell_type": "code",
   "execution_count": 5,
   "metadata": {},
   "outputs": [],
   "source": [
    "# Implement m (without any types for now)\n",
    "def m2(f, a):\n",
    "  return [f(x) for x in a]"
   ]
  },
  {
   "cell_type": "code",
   "execution_count": 8,
   "metadata": {},
   "outputs": [
    {
     "data": {
      "text/plain": [
       "[2, 3, 2]"
      ]
     },
     "execution_count": 8,
     "metadata": {},
     "output_type": "execute_result"
    }
   ],
   "source": [
    "# It works\n",
    "m2(count_vowels, l)"
   ]
  },
  {
   "cell_type": "code",
   "execution_count": 9,
   "metadata": {},
   "outputs": [],
   "source": [
    " # Add types,  make generic.  Lift to M,  Rename function\n",
    "T = TypeVar('T')\n",
    "S = TypeVar('S')\n",
    "\n",
    "def map(f:Callable[[T], S], a: Union[str, Error]) -> Union[str, str]:\n",
    "  if a is Error:\n",
    "    return a\n",
    "  else:\n",
    "    return f(a)\n",
    "\n",
    "# def map(f: Callable[[T], S], a: M[T]) -> M[S]:\n",
    "#   return [f(x) for x in a]\n"
   ]
  },
  {
   "cell_type": "code",
   "execution_count": 12,
   "metadata": {},
   "outputs": [],
   "source": [
    "def square(x: int) -> int:\n",
    "  return x * x\n",
    "\n",
    "word = None\n",
    "map(square,  map(count_vowels, word))\n",
    ", \n",
    "word . count_vowels |> square\n"
   ]
  },
  {
   "cell_type": "code",
   "execution_count": 28,
   "metadata": {},
   "outputs": [
    {
     "name": "stdout",
     "output_type": "stream",
     "text": [
      "England\n",
      "Unknown city London\n",
      "Unknown customer Torsten\n"
     ]
    }
   ],
   "source": [
    "from functools import partial\n",
    "from typing import NewType, Union, TypeVar, Generic\n",
    "\n",
    "T = TypeVar('T')\n",
    "S = TypeVar('S')\n",
    "\n",
    "Error = NewType('Error', str)\n",
    "\n",
    "class Result(Generic[T]):\n",
    "  def __init__(self, value: T):\n",
    "    self.value = value\n",
    "\n",
    "def m(f:Callable[[S], T], inp: Union[Result[S], Error]) -> Union[Result[T], Error]:\n",
    "  if isinstance(inp, str):\n",
    "    return inp\n",
    "  else:\n",
    "    try:\n",
    "      return Result(f(inp.value))\n",
    "    except Exception as e:\n",
    "      return Error(str(e))\n",
    "\n",
    "def lift(v: T) -> Result[T]:\n",
    "  return Result(v)\n",
    "\n",
    "def bind(f:Callable[[S], T], inp: S) -> Union[Result[T], Error]:\n",
    "  try:\n",
    "    return Result(f(inp))\n",
    "  except Exception as e:\n",
    "    return Error(str(e))\n",
    "\n",
    "def print_result(result: Union[Result, Error]):\n",
    "  if isinstance(result, str):\n",
    "    print(result)\n",
    "  else:\n",
    "    print(result.value)\n",
    "\n",
    "def location(customerName: str) -> str:\n",
    "  if customerName == \"David\":\n",
    "    return \"York\"\n",
    "  elif customerName == \"Matt\":\n",
    "    return \"London\"    \n",
    "  raise Exception(f\"Unknown customer {customerName}\")\n",
    "\n",
    "def country(cityName: str) -> str:\n",
    "  if cityName == \"York\":\n",
    "    return \"England\"\n",
    "  raise Exception(f\"Unknown city {cityName}\")\n",
    "\n",
    "location2 = partial(bind, location)\n",
    "country2 = partial(m, country)\n",
    "\n",
    "print_result(country2, location2(\"David\"))\n",
    "print_result(country2, location2(\"Matt\"))\n",
    "print_result(country2, location2(\"Torsten\"))\n"
   ]
  }
 ],
 "metadata": {
  "kernelspec": {
   "display_name": "venv2",
   "language": "python",
   "name": "venv2"
  },
  "language_info": {
   "codemirror_mode": {
    "name": "ipython",
    "version": 3
   },
   "file_extension": ".py",
   "mimetype": "text/x-python",
   "name": "python",
   "nbconvert_exporter": "python",
   "pygments_lexer": "ipython3",
   "version": "3.8.10"
  },
  "orig_nbformat": 4
 },
 "nbformat": 4,
 "nbformat_minor": 2
}
