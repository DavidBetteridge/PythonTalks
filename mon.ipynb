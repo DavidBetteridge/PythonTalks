{
 "cells": [
  {
   "cell_type": "code",
   "execution_count": 14,
   "metadata": {},
   "outputs": [],
   "source": [
    "from typing import Optional, TypeVar, Callable, List\n",
    "from datetime import datetime"
   ]
  },
  {
   "cell_type": "code",
   "execution_count": 15,
   "metadata": {},
   "outputs": [
    {
     "data": {
      "text/plain": [
       "2"
      ]
     },
     "execution_count": 15,
     "metadata": {},
     "output_type": "execute_result"
    }
   ],
   "source": [
    "# Start with a simple fn.  (str to int)\n",
    "def count_vowels(s: str) -> int:\n",
    "  return s.count('a') + s.count('e') + s.count('i') + s.count('o') + s.count('u')\n",
    "\n",
    "count_vowels(\"David\")"
   ]
  },
  {
   "cell_type": "code",
   "execution_count": 16,
   "metadata": {},
   "outputs": [
    {
     "data": {
      "text/plain": [
       "3"
      ]
     },
     "execution_count": 16,
     "metadata": {},
     "output_type": "execute_result"
    }
   ],
   "source": [
    "# It doesn't work if a can be optional.\n",
    "a: Optional[str] = None\n",
    "if datetime.now().year == 2022:\n",
    "  a = \"banana\"\n",
    "\n",
    "count_vowels(a)  #Error\n",
    "\n",
    "# (we want the count_vowels of None to be None)"
   ]
  },
  {
   "cell_type": "code",
   "execution_count": 17,
   "metadata": {},
   "outputs": [],
   "source": [
    "# Implement m (without any types for now)\n",
    "def m(f, a):\n",
    "  pass\n"
   ]
  },
  {
   "cell_type": "code",
   "execution_count": 18,
   "metadata": {},
   "outputs": [],
   "source": [
    "# It works\n",
    "m(count_vowels, None)\n",
    "m(count_vowels, \"banana\")"
   ]
  },
  {
   "cell_type": "code",
   "execution_count": 19,
   "metadata": {},
   "outputs": [],
   "source": [
    "# What if we have a list rather than an optional type?\n",
    "l = [\"apple\", \"banana\", \"carrot\"]"
   ]
  },
  {
   "cell_type": "code",
   "execution_count": 20,
   "metadata": {},
   "outputs": [],
   "source": [
    "# Implement m (without any types for now)\n",
    "def m2(f, a):\n",
    "  pass"
   ]
  },
  {
   "cell_type": "code",
   "execution_count": 21,
   "metadata": {},
   "outputs": [],
   "source": [
    "# It works\n",
    "m2(count_vowels, l)"
   ]
  },
  {
   "cell_type": "code",
   "execution_count": 29,
   "metadata": {},
   "outputs": [],
   "source": [
    " # Add types,  make generic.  Lift to M,  Rename function\n",
    "T = TypeVar('T')\n",
    "S = TypeVar('S')\n",
    "\n",
    "def m(f, a):\n",
    "  if a is None:\n",
    "    return None\n",
    "  else:\n",
    "    return f(a)\n",
    "\n",
    "def m2(f, a):\n",
    "  return [f(x) for x in a]\n"
   ]
  },
  {
   "cell_type": "code",
   "execution_count": 30,
   "metadata": {},
   "outputs": [
    {
     "data": {
      "text/plain": [
       "4"
      ]
     },
     "execution_count": 30,
     "metadata": {},
     "output_type": "execute_result"
    }
   ],
   "source": [
    "def square(x: int) -> int:\n",
    "  return x * x\n",
    "\n",
    "word = \"David\"\n",
    "map(square,  map(count_vowels, word))"
   ]
  },
  {
   "cell_type": "code",
   "execution_count": null,
   "metadata": {},
   "outputs": [],
   "source": []
  }
 ],
 "metadata": {
  "kernelspec": {
   "display_name": "venv2",
   "language": "python",
   "name": "venv2"
  },
  "language_info": {
   "codemirror_mode": {
    "name": "ipython",
    "version": 3
   },
   "file_extension": ".py",
   "mimetype": "text/x-python",
   "name": "python",
   "nbconvert_exporter": "python",
   "pygments_lexer": "ipython3",
   "version": "3.8.10"
  },
  "orig_nbformat": 4
 },
 "nbformat": 4,
 "nbformat_minor": 2
}
