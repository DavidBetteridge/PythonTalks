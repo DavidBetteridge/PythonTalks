{
 "cells": [
  {
   "cell_type": "markdown",
   "metadata": {},
   "source": [
    "# Combining strings"
   ]
  },
  {
   "cell_type": "code",
   "execution_count": null,
   "metadata": {},
   "outputs": [],
   "source": [
    "print(\"Hello World\")"
   ]
  },
  {
   "cell_type": "code",
   "execution_count": null,
   "metadata": {},
   "outputs": [],
   "source": [
    "name = input(\"What is your name?\")"
   ]
  },
  {
   "cell_type": "code",
   "execution_count": null,
   "metadata": {},
   "outputs": [],
   "source": [
    "print(\"Hello \" + name)\n",
    "\n",
    "print(\"Hello\", name)\n",
    "\n",
    "print(\"Hello %s\" % (name))\n",
    "\n",
    "print(f\"Hello {name}\")"
   ]
  },
  {
   "cell_type": "markdown",
   "metadata": {},
   "source": [
    "# Types"
   ]
  },
  {
   "cell_type": "code",
   "execution_count": null,
   "metadata": {},
   "outputs": [],
   "source": [
    "\n",
    "name = \"David\"\n",
    "\n",
    "print(type(name))\n",
    "\n",
    "name = 12\n",
    "\n",
    "print(type(name))"
   ]
  },
  {
   "cell_type": "markdown",
   "metadata": {},
   "source": [
    "# If Statements"
   ]
  },
  {
   "cell_type": "code",
   "execution_count": null,
   "metadata": {},
   "outputs": [],
   "source": [
    "if name == \"David\":   # <- note the :\n",
    "    print(\"Hi David\")   # <- note the indentation\n",
    "elif name == \"Kevin\":   # == for equality\n",
    "    print(\"Yo Kevin\")\n",
    "else:\n",
    "    print(f\"Hello {name}.\")\n",
    "print(\"Always runs\")    # Not indented\n",
    "\n",
    "# Switch statements added in Python 3.10  (this is 3.9)"
   ]
  },
  {
   "cell_type": "markdown",
   "metadata": {},
   "source": [
    "# While Loops"
   ]
  },
  {
   "cell_type": "code",
   "execution_count": null,
   "metadata": {},
   "outputs": [],
   "source": [
    "n = 100\n",
    "while n < 110:   # <- note the :\n",
    "  print(n)        # <- note the indentation\n",
    "  n += 1\n",
    "  # n++    <- not allowed in python"
   ]
  },
  {
   "cell_type": "markdown",
   "metadata": {},
   "source": [
    "# For Loops"
   ]
  },
  {
   "cell_type": "code",
   "execution_count": null,
   "metadata": {},
   "outputs": [],
   "source": [
    "for n in range(10):\n",
    "  print(n)  \n",
    "  print(\"Next number\")\n",
    "print(\"Done\")  \n",
    "# Stops before"
   ]
  },
  {
   "cell_type": "code",
   "execution_count": null,
   "metadata": {},
   "outputs": [],
   "source": [
    "for n in range(15, 20):\n",
    "  print(n)"
   ]
  },
  {
   "cell_type": "code",
   "execution_count": null,
   "metadata": {},
   "outputs": [],
   "source": [
    "for n in range(20, 15, -2):\n",
    "  print(n)"
   ]
  },
  {
   "cell_type": "code",
   "execution_count": null,
   "metadata": {},
   "outputs": [],
   "source": [
    "for _ in range(2):   # _ is used for a discard\n",
    "  print(\"Hello\")"
   ]
  },
  {
   "cell_type": "markdown",
   "metadata": {},
   "source": [
    "# Lists"
   ]
  },
  {
   "cell_type": "code",
   "execution_count": null,
   "metadata": {},
   "outputs": [],
   "source": [
    "colours = [\"Red\", \"Green\", \"Blue\"]   # Python doesn't have arrays\n",
    "colours.append(\"Yellow\")\n",
    "print(colours[1])\n",
    "\n",
    "print(len(colours))     # Note it's len(colours) not colours.length\n",
    "print(type(colours))\n",
    "\n",
    "for colour in colours:\n",
    "  print(colour)\n",
    "\n",
    "#print(colours[-1])  # Last element,  like ^1 in c#"
   ]
  },
  {
   "cell_type": "code",
   "execution_count": null,
   "metadata": {},
   "outputs": [],
   "source": [
    "a = [0] * 10\n",
    "print(a)"
   ]
  },
  {
   "cell_type": "markdown",
   "metadata": {},
   "source": [
    "# Slices"
   ]
  },
  {
   "cell_type": "code",
   "execution_count": null,
   "metadata": {},
   "outputs": [],
   "source": [
    "letters = [\"a\", \"b\", \"c\", \"d\", \"e\", \"f\", \"g\", \"h\", \"i\", \"j\", \"k\", \"l\", \"m\", \"n\", \"o\", \"p\", \"q\", \"r\", \"s\", \"t\", \"u\", \"v\", \"w\", \"x\", \"y\", \"z\"]\n",
    "print(letters)\n"
   ]
  },
  {
   "cell_type": "code",
   "execution_count": null,
   "metadata": {},
   "outputs": [],
   "source": [
    "\n",
    "# Lots of built-in functions - but you have to find them!\n",
    "import string  # <- note the import like a using statement\n",
    "letters2 = list(string.ascii_lowercase)\n",
    "print(letters2)\n",
    "\n",
    "help(string)\n",
    "\n",
    "# What does mean?\n",
    "# for letter in letters[::-1]\n",
    "#   print(letter)\n"
   ]
  },
  {
   "cell_type": "code",
   "execution_count": null,
   "metadata": {},
   "outputs": [],
   "source": [
    "for letter in letters[:5]:\n",
    "  print(letter)"
   ]
  },
  {
   "cell_type": "code",
   "execution_count": null,
   "metadata": {},
   "outputs": [],
   "source": [
    "for letter in letters[2:5]:\n",
    "  print(letter)"
   ]
  },
  {
   "cell_type": "code",
   "execution_count": null,
   "metadata": {},
   "outputs": [],
   "source": [
    "for letter in letters[:15:2]:\n",
    "  print(letter)"
   ]
  },
  {
   "cell_type": "code",
   "execution_count": null,
   "metadata": {},
   "outputs": [],
   "source": [
    "# What does mean?\n",
    "for letter in letters[::-1]:\n",
    "  print(letter)"
   ]
  },
  {
   "cell_type": "code",
   "execution_count": null,
   "metadata": {},
   "outputs": [],
   "source": [
    "\n",
    "\n",
    "# string.join(letters, \"-\")\n",
    "\"-\".join(letters)"
   ]
  },
  {
   "cell_type": "markdown",
   "metadata": {},
   "source": [
    "# List comprehensions"
   ]
  },
  {
   "cell_type": "code",
   "execution_count": null,
   "metadata": {},
   "outputs": [],
   "source": [
    "# What about linq?\n",
    "# select aka map,  from,  where\n",
    "[letter for letter in letters]\n"
   ]
  },
  {
   "cell_type": "code",
   "execution_count": null,
   "metadata": {},
   "outputs": [],
   "source": [
    "\n",
    "[letter.upper() for letter in letters]"
   ]
  },
  {
   "cell_type": "code",
   "execution_count": null,
   "metadata": {},
   "outputs": [],
   "source": [
    "[letter.upper() for letter in letters if letter < 'm']"
   ]
  },
  {
   "cell_type": "code",
   "execution_count": null,
   "metadata": {},
   "outputs": [],
   "source": [
    "[letter.upper() for letter in letters[::-1] if letter < 'm']"
   ]
  },
  {
   "cell_type": "code",
   "execution_count": null,
   "metadata": {},
   "outputs": [],
   "source": [
    "\n",
    "# But we calculate letter.upper() twice\n",
    "[letter.upper() for letter in letters if letter.upper() < 'M']"
   ]
  },
  {
   "cell_type": "code",
   "execution_count": null,
   "metadata": {},
   "outputs": [],
   "source": [
    "\n",
    "# := is called the walrus operator\n",
    "[l for letter in letters if (l := letter.upper()) < 'M']"
   ]
  },
  {
   "cell_type": "code",
   "execution_count": null,
   "metadata": {},
   "outputs": [],
   "source": [
    "# Nested\n",
    "words = [\"hello\", \"world\", \"this\", \"is\", \"a\", \"sentence\"]\n",
    "[letter for word in words for letter in word]"
   ]
  },
  {
   "cell_type": "markdown",
   "metadata": {},
   "source": [
    "# Dictionaries"
   ]
  },
  {
   "cell_type": "code",
   "execution_count": null,
   "metadata": {},
   "outputs": [],
   "source": [
    "\n",
    "a_dict = { \"David\": \"York\",\n",
    "           \"Kevin\": \"London\" }\n",
    "\n",
    "len(a_dict)\n"
   ]
  },
  {
   "cell_type": "code",
   "execution_count": null,
   "metadata": {},
   "outputs": [],
   "source": [
    "\n",
    "a_dict[\"David\"]\n"
   ]
  },
  {
   "cell_type": "code",
   "execution_count": null,
   "metadata": {},
   "outputs": [],
   "source": [
    "if \"David\" in a_dict:\n",
    "  print(\"David is in the dictionary\")\n",
    "\n",
    "\n",
    "if \"Frank\" not in a_dict:\n",
    "  print(\"Frank is NOT in the dictionary\")\n",
    "\n"
   ]
  },
  {
   "cell_type": "code",
   "execution_count": null,
   "metadata": {},
   "outputs": [],
   "source": [
    "# name is the key\n",
    "for name in a_dict:\n",
    "  print(name, a_dict[name])"
   ]
  },
  {
   "cell_type": "code",
   "execution_count": null,
   "metadata": {},
   "outputs": [],
   "source": [
    "for name, city in a_dict.items():\n",
    "  print(name, city)\n",
    "\n",
    "for nc in a_dict.items():\n",
    "  print(type(nc))\n",
    "\n",
    "# It's a tuple!"
   ]
  },
  {
   "cell_type": "code",
   "execution_count": null,
   "metadata": {},
   "outputs": [],
   "source": [
    "\n",
    "# This returns a list,  but I want a dictionary\n",
    "a_list = [letter.upper() for letter in letters if letter < 'm']\n"
   ]
  },
  {
   "cell_type": "code",
   "execution_count": null,
   "metadata": {},
   "outputs": [],
   "source": [
    "\n",
    "a_dict = {letter: letter.upper() for letter in letters if letter < 'm'}"
   ]
  },
  {
   "cell_type": "markdown",
   "metadata": {},
   "source": [
    "# Exercise"
   ]
  },
  {
   "cell_type": "code",
   "execution_count": null,
   "metadata": {},
   "outputs": [],
   "source": [
    "\n",
    "# Number of A,B and Cs in this string\n",
    "text = \"AAAAABBBCCCCAAAABBBCCCCAAABBBCCCC\""
   ]
  },
  {
   "cell_type": "code",
   "execution_count": null,
   "metadata": {},
   "outputs": [],
   "source": [
    "\n",
    "# First attempt\n",
    "counts = dict()\n",
    "for s in text:\n",
    "  if s in counts:\n",
    "    counts[s] += 1\n",
    "  else:\n",
    "    counts[s] = 1\n",
    "\n",
    "print(counts)\n"
   ]
  },
  {
   "cell_type": "code",
   "execution_count": null,
   "metadata": {},
   "outputs": [],
   "source": [
    "\n",
    "\n",
    "# Second attempt\n",
    "from typing import DefaultDict  #Reference other modules/packages\n",
    "counts = DefaultDict(int) # Explain\n",
    "for s in text:\n",
    "  counts[s] += 1\n",
    "\n",
    "print(counts)\n"
   ]
  },
  {
   "cell_type": "code",
   "execution_count": null,
   "metadata": {},
   "outputs": [],
   "source": [
    "\n",
    "# Third attempt\n",
    "\n",
    "from collections import Counter\n",
    "counts = Counter(text)\n",
    "counts\n",
    "# counts[\"A\"]\n",
    "\n"
   ]
  },
  {
   "cell_type": "markdown",
   "metadata": {},
   "source": [
    "# Functions"
   ]
  },
  {
   "cell_type": "code",
   "execution_count": null,
   "metadata": {},
   "outputs": [],
   "source": [
    "\n",
    "def add(a, b):        # naming convention (lower case with _)\n",
    "  return a + b        # <- note the indentation\n",
    "                      # Needs return keyword\n"
   ]
  },
  {
   "cell_type": "code",
   "execution_count": null,
   "metadata": {},
   "outputs": [],
   "source": [
    "\n",
    "\n",
    "print(add(1, 2))\n"
   ]
  },
  {
   "cell_type": "code",
   "execution_count": null,
   "metadata": {},
   "outputs": [],
   "source": [
    "\n",
    "print(add(\"Hello \",\"World\"))\n"
   ]
  },
  {
   "cell_type": "code",
   "execution_count": null,
   "metadata": {},
   "outputs": [],
   "source": [
    "\n",
    "add(\"David\",1)\n"
   ]
  },
  {
   "cell_type": "code",
   "execution_count": null,
   "metadata": {},
   "outputs": [],
   "source": [
    "\n",
    "print(type(add(1, 2)))\n",
    "print(type(add(\"David\",\"Kevin\")))"
   ]
  },
  {
   "cell_type": "markdown",
   "metadata": {},
   "source": [
    "# Classes"
   ]
  },
  {
   "cell_type": "code",
   "execution_count": null,
   "metadata": {},
   "outputs": [],
   "source": [
    "class Car:\n",
    "  pass                    # <- note the indentation.   Must have a body - hence pass\n"
   ]
  },
  {
   "cell_type": "code",
   "execution_count": null,
   "metadata": {},
   "outputs": [],
   "source": [
    "\n",
    "class Car:\n",
    "  # A bit like a c'tor\n",
    "  def __init__(self, owner, colour, length_in_meters):\n",
    "    self.owner = owner\n",
    "    self.colour = colour\n",
    "    self.length_in_meters = length_in_meters\n",
    "  \n",
    "  # All instance methods take self as the first parameter\n",
    "  def start_engine(self):\n",
    "    print(\"Starting engine\")\n",
    "  \n",
    "  def stop_engine(self):\n",
    "    print(\"Stopping engine\")\n",
    "\n",
    "  # Like overloading ToString()\n",
    "  def __str__(self):\n",
    "    return f\"{self.owner}'s {self.colour} car\"\n",
    "\n",
    "  def __repr__(self) -> str:\n",
    "    return self.owner\n",
    "\n",
    "  def __len__(self):\n",
    "    return self.length_in_meters\n",
    "  "
   ]
  },
  {
   "cell_type": "code",
   "execution_count": null,
   "metadata": {},
   "outputs": [],
   "source": [
    "\n",
    "\n",
    "davids_car = Car(\"David\", \"Red\", 2)\n",
    "rebeccas_car = Car(\"Rebecca\", \"Blue\", 3)\n",
    "print(davids_car.owner)\n",
    "len(davids_car)\n"
   ]
  },
  {
   "cell_type": "code",
   "execution_count": null,
   "metadata": {},
   "outputs": [],
   "source": [
    "def break_car():\n",
    "  print(\"Car is broken\")\n",
    "\n",
    "# python is dynamic\n",
    "rebeccas_car.start_engine = break_car\n",
    "\n",
    "davids_car.start_engine()\n",
    "rebeccas_car.start_engine()\n",
    "# makes mocking easy!\n"
   ]
  },
  {
   "cell_type": "code",
   "execution_count": null,
   "metadata": {},
   "outputs": [],
   "source": [
    "\n",
    "# lambda syntax (can add args)\n",
    "rebeccas_car.start_engine = lambda: print(\"Engine broken\")\n",
    "rebeccas_car.start_engine()\n"
   ]
  },
  {
   "cell_type": "markdown",
   "metadata": {},
   "source": [
    "# args and kwargs"
   ]
  },
  {
   "cell_type": "code",
   "execution_count": null,
   "metadata": {},
   "outputs": [],
   "source": [
    "# A lot of methods will have this signature\n",
    "def a_method(*args, **kwargs):\n",
    "\n",
    "\n",
    "  for arg in args:\n",
    "    print(arg)\n",
    "\n",
    "  for name in kwargs:\n",
    "    print(name, kwargs[name])\n",
    "\n",
    "a_method(1,2,3, name=\"David\", City=\"York\")"
   ]
  },
  {
   "cell_type": "markdown",
   "metadata": {},
   "source": [
    "# Tuples and Deconstruction"
   ]
  },
  {
   "cell_type": "code",
   "execution_count": null,
   "metadata": {},
   "outputs": [],
   "source": [
    "\n",
    "def another_method(name, age):\n",
    "  print(f\"{name} is {age}\")\n",
    "\n",
    "a_tuple = (\"David\", 46)\n",
    " \n",
    "another_method(a_tuple[0], a_tuple[1])"
   ]
  },
  {
   "cell_type": "code",
   "execution_count": null,
   "metadata": {},
   "outputs": [],
   "source": [
    "another_method(*a_tuple)"
   ]
  },
  {
   "cell_type": "markdown",
   "metadata": {},
   "source": [
    "# Typing hints"
   ]
  },
  {
   "cell_type": "code",
   "execution_count": null,
   "metadata": {},
   "outputs": [],
   "source": [
    "\n",
    "def capital_letters(text):\n",
    "  return text[0].upper() + text[1:].lower()\n",
    "\n",
    "print(capital_letters(\"david\"))\n",
    "print(capital_letters(123))   # Runtime error\n"
   ]
  },
  {
   "cell_type": "code",
   "execution_count": null,
   "metadata": {},
   "outputs": [],
   "source": [
    "\n",
    "# We can add a hint.  (Must be enabled in VS Code settings)\n",
    "def capital_letters2(text: str) -> str:\n",
    "  return text[0].upper() + text[1:].lower()\n",
    "\n",
    "print(capital_letters2(\"david\"))\n",
    "print(capital_letters2(123))"
   ]
  },
  {
   "cell_type": "code",
   "execution_count": null,
   "metadata": {},
   "outputs": [],
   "source": [
    "\n",
    "# Another example\n",
    "def none_is_blank(text):\n",
    "  if text is None:\n",
    "    return \"\"\n",
    "  else:\n",
    "    return text\n",
    "\n",
    "name = None\n",
    "print(none_is_blank(name))\n"
   ]
  },
  {
   "cell_type": "code",
   "execution_count": null,
   "metadata": {},
   "outputs": [],
   "source": [
    "\n",
    "\n",
    "# What do we add for the typing hints?  str gives an error\n",
    "def none_is_blank(text: str):\n",
    "  if text is None:\n",
    "    return 1\n",
    "  else:\n",
    "    return text\n",
    "\n",
    "print(none_is_blank(name))\n",
    "\n",
    "# Optional is really Union[None, str]\n",
    "# Add that. (from typing import Optional)\n",
    "\n"
   ]
  },
  {
   "cell_type": "code",
   "execution_count": null,
   "metadata": {},
   "outputs": [],
   "source": [
    "\n",
    "def assign_address_to_person(person_id: int, address_id: int):\n",
    "  print(\"Person\", person_id)\n",
    "  print(\"Address\", address_id)\n",
    "\n",
    "\n",
    "david = 1234\n",
    "york = 5678\n",
    "\n",
    "assign_address_to_person(york, david)\n",
    "\n"
   ]
  },
  {
   "cell_type": "code",
   "execution_count": null,
   "metadata": {},
   "outputs": [],
   "source": [
    "\n",
    "from typing import NewType\n",
    "\n",
    "AddressId = NewType(\"AddressId\", int)\n",
    "PersonId = NewType(\"PersonId\", int)\n",
    "\n",
    "\n",
    "def assign_address_to_person(person_id: PersonId, address_id: AddressId):\n",
    "  print(\"Person\", person_id)\n",
    "  print(\"Address\", address_id)\n",
    "\n",
    "david = PersonId(1234)\n",
    "york = AddressId(5678)\n",
    "\n",
    "assign_address_to_person(york, david)\n",
    "\n",
    "assign_address_to_person(david, york)\n",
    "\n",
    "print(type(david))\n",
    "print(type(york))\n",
    "\n",
    "# Performance"
   ]
  },
  {
   "cell_type": "markdown",
   "metadata": {},
   "source": [
    "# Interfaces"
   ]
  },
  {
   "cell_type": "code",
   "execution_count": null,
   "metadata": {},
   "outputs": [],
   "source": [
    "from typing import Protocol\n",
    "\n",
    "class DatabaseAccess(Protocol):\n",
    "  def get_person(self, person_id: int) -> str:\n",
    "    ...   # dots mean abstract\n",
    "\n",
    "# Implementation\n",
    "class MemoryAccess():\n",
    "  def get_person(self, person_id: int) -> str:\n",
    "    return \"David\"\n",
    "\n",
    "\n",
    "def do_something(db: DatabaseAccess, person_id: int):\n",
    "  name = db.get_person(person_id)\n",
    "  print(name)\n",
    "\n",
    "do_something(MemoryAccess(), 1234)    \n",
    "\n",
    "# rename get_person to get an error message\n",
    "\n"
   ]
  },
  {
   "cell_type": "markdown",
   "metadata": {},
   "source": [
    "# Generics"
   ]
  },
  {
   "cell_type": "code",
   "execution_count": null,
   "metadata": {},
   "outputs": [],
   "source": [
    "from typing import TypeVar\n",
    "\n",
    "T = TypeVar('T')\n",
    "def coalesce(first: T, second: T) -> T:\n",
    "  return first if first is not None else second\n",
    "\n",
    "# Bit limited,  as restrictions cannot be applied,  ie can't do where T is int\n"
   ]
  },
  {
   "cell_type": "markdown",
   "metadata": {},
   "source": [
    "# Decorators (at speed)"
   ]
  },
  {
   "cell_type": "code",
   "execution_count": null,
   "metadata": {},
   "outputs": [],
   "source": [
    "#1\n",
    "def six():\n",
    "  return 6\n",
    "\n",
    "def double(x: int) -> int:\n",
    "  return x * 2\n",
    "\n",
    "print(double(six()))\n",
    "\n",
    "del six\n",
    "del double"
   ]
  },
  {
   "cell_type": "code",
   "execution_count": null,
   "metadata": {},
   "outputs": [],
   "source": [
    "\n",
    "\n",
    "# 2\n",
    "from typing import Callable\n",
    "\n",
    "def six() -> int:\n",
    "  return 6\n",
    "\n",
    "# Double is now a higher order function\n",
    "def double(fn: Callable[[int], int]) -> int:\n",
    "  return fn() * 2\n",
    "\n",
    "print(double(six))\n"
   ]
  },
  {
   "cell_type": "code",
   "execution_count": null,
   "metadata": {},
   "outputs": [],
   "source": [
    "\n",
    "\n",
    "# 3 - functions can also return functions\n",
    "def build_double_function():\n",
    "  def double(x: int) -> int:\n",
    "    return x * 2\n",
    "  return build_double_function\n",
    "\n",
    "# Calling build_double_function() creates the double function\n",
    "\n",
    "print(build_double_function()(6))\n",
    "\n"
   ]
  },
  {
   "cell_type": "code",
   "execution_count": null,
   "metadata": {},
   "outputs": [],
   "source": [
    "\n",
    "#4 Getting complicated!\n",
    "\n",
    "def six() -> int:\n",
    "  return 6\n",
    "\n",
    "def double(func):\n",
    "  def wrapper():\n",
    "    return func() * 2\n",
    "  return wrapper\n",
    "\n",
    "double_six = double(six)\n",
    "\n",
    "# double_six is now a function.  Which when called will then\n",
    "# call the supplied function (six) and then double it's result\n",
    "print(type(double_six))\n",
    "\n",
    "print(double_six())\n"
   ]
  },
  {
   "cell_type": "code",
   "execution_count": null,
   "metadata": {},
   "outputs": [],
   "source": [
    "\n",
    "# We can now use our \"double\" function a decorator to any function.\n",
    "# For example\n",
    "@double\n",
    "def seven():\n",
    "  return 7\n",
    "\n",
    "print(seven())\n",
    "\n",
    "# A bit like attributes,  but they are functions rather than meta data"
   ]
  },
  {
   "cell_type": "markdown",
   "metadata": {},
   "source": [
    "# Exceptions"
   ]
  },
  {
   "cell_type": "code",
   "execution_count": null,
   "metadata": {},
   "outputs": [],
   "source": [
    " # try -> except -> finally\n",
    "try:\n",
    "  print(1/0)\n",
    "except ZeroDivisionError:\n",
    "  print(\"Cannot divide by zero\")\n"
   ]
  },
  {
   "cell_type": "code",
   "execution_count": null,
   "metadata": {},
   "outputs": [],
   "source": [
    "  \n",
    "# We can combine exceptions with decorators\n",
    "def must_be_positive(func):\n",
    "  def wrapper(a,b):\n",
    "    result = func(a,b)\n",
    "    if result < 0:\n",
    "      raise Exception(f\"Result of calculation must be positive. {a} and {b} is {result}\")\n",
    "    return result\n",
    "  return wrapper\n",
    "\n",
    "\n",
    "@must_be_positive\n",
    "def sub(a,b):\n",
    "  return a - b\n",
    "\n",
    "print(sub(10, 5))\n",
    "print(sub(10, 50))\n"
   ]
  },
  {
   "cell_type": "markdown",
   "metadata": {},
   "source": [
    "# Dataclasses"
   ]
  },
  {
   "cell_type": "code",
   "execution_count": null,
   "metadata": {},
   "outputs": [],
   "source": [
    "class Car:\n",
    "  def __init__(self, owner, colour, length_in_meters):\n",
    "    self.owner = owner\n",
    "    self.colour = colour\n",
    "    self.length_in_meters = length_in_meters\n",
    "\n",
    "  # def __repr__(self):\n",
    "  #   return self.owner\n",
    "\n",
    "car0 = Car(\"David\", \"Red\", 2)\n",
    "print(car0.owner)\n",
    "print(car0)  # We haven't defined __repr__"
   ]
  },
  {
   "cell_type": "code",
   "execution_count": null,
   "metadata": {},
   "outputs": [],
   "source": [
    "\n",
    "import dataclasses\n",
    "\n",
    "@dataclasses.dataclass\n",
    "class Car:\n",
    "  owner: str\n",
    "  colour: str\n",
    "  length_in_meters: int\n",
    "\n",
    "car1 = Car(\"David\", \"Red\", 2)\n",
    "car1.colour = \"Blue\" # This is fine\n",
    "print(car1.owner)\n",
    "print(car1) # Note we get __repr__ for free\n"
   ]
  },
  {
   "cell_type": "code",
   "execution_count": null,
   "metadata": {},
   "outputs": [],
   "source": [
    "# Immutable\n",
    "@dataclasses.dataclass(frozen=True)\n",
    "class Car:\n",
    "  owner: str\n",
    "  colour: str\n",
    "  length_in_meters: int\n",
    "\n",
    "car1 = Car(\"David\", \"Red\", 2)\n",
    "car1.colour = \"Blue\"\n"
   ]
  },
  {
   "cell_type": "code",
   "execution_count": 14,
   "metadata": {},
   "outputs": [
    {
     "name": "stdout",
     "output_type": "stream",
     "text": [
      "Car(owner='Me', length_in_meters=2)\n"
     ]
    }
   ],
   "source": [
    "\n",
    "\n",
    "@dataclasses.dataclass()\n",
    "class Car:\n",
    "  owner: str = dataclasses.field(init=False)  # Note the types!\n",
    "  colour: str = dataclasses.field(repr=False)  # Note the types!\n",
    "  length_in_meters: int\n",
    "\n",
    "car1 = Car(\"Red\", 2)\n",
    "car1.owner = \"Me\"\n",
    "\n",
    "print(car1)\n",
    "\n"
   ]
  },
  {
   "cell_type": "markdown",
   "metadata": {},
   "source": [
    "# Scoping (private/protected/public)"
   ]
  },
  {
   "cell_type": "code",
   "execution_count": 15,
   "metadata": {},
   "outputs": [
    {
     "name": "stdout",
     "output_type": "stream",
     "text": [
      "10\n",
      "1\n",
      "10\n",
      "1\n",
      "12\n",
      "2\n"
     ]
    }
   ],
   "source": [
    "class BusinessLogic:\n",
    "\n",
    "  def __init__(self):\n",
    "    self.__cache = {}\n",
    "    self.cache_size = 0\n",
    "\n",
    "  def __add_to_cache(self, x, result):\n",
    "      self.__cache[x] = result\n",
    "      self.cache_size += 1\n",
    "\n",
    "  def double(self, x):\n",
    "    if x in self.__cache:\n",
    "      return self.__cache[x]\n",
    "    else:\n",
    "      result = x * 2\n",
    "      self.__add_to_cache(x, result)\n",
    "      return result\n",
    "\n",
    "logic = BusinessLogic()\n",
    "print(logic.double(5))\n",
    "print(logic.cache_size)\n",
    "print(logic.double(5))\n",
    "print(logic.cache_size)\n",
    "print(logic.double(6))\n",
    "print(logic.cache_size)\n",
    "\n"
   ]
  },
  {
   "cell_type": "code",
   "execution_count": 16,
   "metadata": {},
   "outputs": [
    {
     "ename": "AttributeError",
     "evalue": "'BusinessLogic' object has no attribute '__add_to_cache'",
     "output_type": "error",
     "traceback": [
      "\u001b[1;31m---------------------------------------------------------------------------\u001b[0m",
      "\u001b[1;31mAttributeError\u001b[0m                            Traceback (most recent call last)",
      "\u001b[1;32m~\\AppData\\Local\\Temp/ipykernel_10948/1088800702.py\u001b[0m in \u001b[0;36m<module>\u001b[1;34m\u001b[0m\n\u001b[1;32m----> 1\u001b[1;33m \u001b[0mlogic\u001b[0m\u001b[1;33m.\u001b[0m\u001b[0m__add_to_cache\u001b[0m\u001b[1;33m(\u001b[0m\u001b[1;36m7\u001b[0m\u001b[1;33m,\u001b[0m \u001b[1;36m10\u001b[0m\u001b[1;33m)\u001b[0m   \u001b[1;31m# Don't work\u001b[0m\u001b[1;33m\u001b[0m\u001b[1;33m\u001b[0m\u001b[0m\n\u001b[0m\u001b[0;32m      2\u001b[0m \u001b[1;31m#print(logic.double(7))\u001b[0m\u001b[1;33m\u001b[0m\u001b[1;33m\u001b[0m\u001b[0m\n\u001b[0;32m      3\u001b[0m \u001b[1;31m#print(logic.cache_size)\u001b[0m\u001b[1;33m\u001b[0m\u001b[1;33m\u001b[0m\u001b[0m\n",
      "\u001b[1;31mAttributeError\u001b[0m: 'BusinessLogic' object has no attribute '__add_to_cache'"
     ]
    }
   ],
   "source": [
    "\n",
    "logic.__add_to_cache(7, 10)   # Don't work"
   ]
  },
  {
   "cell_type": "code",
   "execution_count": 17,
   "metadata": {},
   "outputs": [
    {
     "ename": "AttributeError",
     "evalue": "'BusinessLogic' object has no attribute '__cache'",
     "output_type": "error",
     "traceback": [
      "\u001b[1;31m---------------------------------------------------------------------------\u001b[0m",
      "\u001b[1;31mAttributeError\u001b[0m                            Traceback (most recent call last)",
      "\u001b[1;32m~\\AppData\\Local\\Temp/ipykernel_10948/2462400221.py\u001b[0m in \u001b[0;36m<module>\u001b[1;34m\u001b[0m\n\u001b[1;32m----> 1\u001b[1;33m \u001b[0mlogic\u001b[0m\u001b[1;33m.\u001b[0m\u001b[0m__cache\u001b[0m\u001b[1;33m[\u001b[0m\u001b[1;36m7\u001b[0m\u001b[1;33m]\u001b[0m \u001b[1;33m=\u001b[0m \u001b[1;36m10\u001b[0m        \u001b[1;31m# Don't work\u001b[0m\u001b[1;33m\u001b[0m\u001b[1;33m\u001b[0m\u001b[0m\n\u001b[0m\u001b[0;32m      2\u001b[0m \u001b[1;33m\u001b[0m\u001b[0m\n",
      "\u001b[1;31mAttributeError\u001b[0m: 'BusinessLogic' object has no attribute '__cache'"
     ]
    }
   ],
   "source": [
    "\n",
    "logic.__cache[7] = 10        # Don't work"
   ]
  },
  {
   "cell_type": "code",
   "execution_count": 18,
   "metadata": {},
   "outputs": [
    {
     "name": "stdout",
     "output_type": "stream",
     "text": [
      "['_BusinessLogic__add_to_cache', '_BusinessLogic__cache', '__class__', '__delattr__', '__dict__', '__dir__', '__doc__', '__eq__', '__format__', '__ge__', '__getattribute__', '__gt__', '__hash__', '__init__', '__init_subclass__', '__le__', '__lt__', '__module__', '__ne__', '__new__', '__reduce__', '__reduce_ex__', '__repr__', '__setattr__', '__sizeof__', '__str__', '__subclasshook__', '__weakref__', 'cache_size', 'double']\n",
      "14\n",
      "3\n",
      "10\n",
      "3\n"
     ]
    }
   ],
   "source": [
    "\n",
    "print(dir(logic))"
   ]
  },
  {
   "cell_type": "code",
   "execution_count": 19,
   "metadata": {},
   "outputs": [
    {
     "name": "stdout",
     "output_type": "stream",
     "text": [
      "10\n",
      "10\n"
     ]
    }
   ],
   "source": [
    "\n",
    "print(logic.double(7))\n",
    "logic._BusinessLogic__cache[7] = 10\n",
    "print(logic.double(7))\n"
   ]
  },
  {
   "cell_type": "markdown",
   "metadata": {},
   "source": [
    "# #if directives"
   ]
  },
  {
   "cell_type": "code",
   "execution_count": null,
   "metadata": {},
   "outputs": [],
   "source": [
    "# When a script is first imported it is executed.  This includes creating\n",
    "# classes and functions.  This can be quite powerful,  here is a basic\n",
    "# example.\n",
    "name = \"David\"\n",
    "\n",
    "if name == \"David\":\n",
    "  def town():\n",
    "    print(\"London\")\n",
    "else:\n",
    "  def town():\n",
    "    print(\"Paris\")\n",
    "\n",
    "town()"
   ]
  },
  {
   "cell_type": "markdown",
   "metadata": {},
   "source": [
    "# New Objects"
   ]
  },
  {
   "cell_type": "code",
   "execution_count": 21,
   "metadata": {},
   "outputs": [
    {
     "name": "stdout",
     "output_type": "stream",
     "text": [
      "Creating instance of house\n",
      "House at 123 Main Street\n",
      "Creating instance of MissingHouse\n",
      "There is no house\n"
     ]
    }
   ],
   "source": [
    "import random\n",
    "from typing import Optional\n",
    "\n",
    "class MissingHouse():\n",
    "  def __str__(self):\n",
    "    return f\"There is no house\"\n",
    "\n",
    "\n",
    "class House():\n",
    "  def __init__(self, address):\n",
    "    self.address = address\n",
    "\n",
    "  def __str__(self):\n",
    "    return f\"House at {self.address}\"\n",
    "\n",
    "\n",
    "\n",
    "class BaseHouse():\n",
    "  def __new__(cls, address: Optional[str]):\n",
    "    if address is not None:\n",
    "      print(\"Creating instance of house\")\n",
    "      return House(address)\n",
    "    else:\n",
    "      print(\"Creating instance of MissingHouse\")\n",
    "      return MissingHouse()\n",
    "\n",
    "\n",
    "\n",
    "\n",
    "h = BaseHouse(\"123 Main Street\")\n",
    "print(h)\n",
    "\n",
    "h2 = BaseHouse(None)\n",
    "print(h2)\n",
    "\n"
   ]
  },
  {
   "cell_type": "code",
   "execution_count": null,
   "metadata": {},
   "outputs": [],
   "source": []
  }
 ],
 "metadata": {
  "interpreter": {
   "hash": "e4c7135e59d78bbf6a10e6135669292320ac149bbd17ef7d03bc75323d3d0b08"
  },
  "kernelspec": {
   "display_name": "Python 3.9.12 64-bit (windows store)",
   "language": "python",
   "name": "python3"
  },
  "language_info": {
   "codemirror_mode": {
    "name": "ipython",
    "version": 3
   },
   "file_extension": ".py",
   "mimetype": "text/x-python",
   "name": "python",
   "nbconvert_exporter": "python",
   "pygments_lexer": "ipython3",
   "version": "3.9.12"
  },
  "orig_nbformat": 4
 },
 "nbformat": 4,
 "nbformat_minor": 2
}
