{
 "cells": [
  {
   "cell_type": "markdown",
   "metadata": {},
   "source": [
    "# Combining strings"
   ]
  },
  {
   "cell_type": "code",
   "execution_count": null,
   "metadata": {},
   "outputs": [],
   "source": [
    "print(\"Hello World\")"
   ]
  },
  {
   "cell_type": "code",
   "execution_count": null,
   "metadata": {},
   "outputs": [],
   "source": [
    "name = input(\"What is your name?\")"
   ]
  },
  {
   "cell_type": "code",
   "execution_count": null,
   "metadata": {},
   "outputs": [],
   "source": [
    "print(\"Hello \" + name)\n",
    "\n",
    "print(\"Hello\", name)\n",
    "\n",
    "print(\"Hello %s\" % (name))\n",
    "\n",
    "print(f\"Hello {name}\")"
   ]
  },
  {
   "cell_type": "markdown",
   "metadata": {},
   "source": [
    "# Types"
   ]
  },
  {
   "cell_type": "code",
   "execution_count": null,
   "metadata": {},
   "outputs": [],
   "source": [
    "\n",
    "name = \"David\"\n",
    "\n",
    "print(type(name))\n",
    "\n",
    "name = 12\n",
    "\n",
    "print(type(name))"
   ]
  },
  {
   "cell_type": "markdown",
   "metadata": {},
   "source": [
    "# If Statements"
   ]
  },
  {
   "cell_type": "code",
   "execution_count": null,
   "metadata": {},
   "outputs": [],
   "source": [
    "if name == \"David\":   # <- note the :\n",
    "    print(\"Hi David\")   # <- note the indentation\n",
    "elif name == \"Kevin\":   # == for equality\n",
    "    print(\"Yo Kevin\")\n",
    "else:\n",
    "    print(f\"Hello {name}.\")\n",
    "print(\"Always runs\")    # Not indented\n",
    "\n",
    "# Switch statements added in Python 3.10  (this is 3.9)"
   ]
  },
  {
   "cell_type": "markdown",
   "metadata": {},
   "source": [
    "# While Loops"
   ]
  },
  {
   "cell_type": "code",
   "execution_count": null,
   "metadata": {},
   "outputs": [],
   "source": [
    "n = 100\n",
    "while n < 110:   # <- note the :\n",
    "  print(n)        # <- note the indentation\n",
    "  n += 1\n",
    "  # n++    <- not allowed in python"
   ]
  },
  {
   "cell_type": "markdown",
   "metadata": {},
   "source": [
    "# For Loops"
   ]
  },
  {
   "cell_type": "code",
   "execution_count": null,
   "metadata": {},
   "outputs": [],
   "source": [
    "for n in range(10):\n",
    "  print(n)  \n",
    "  print(\"Next number\")\n",
    "print(\"Done\")  \n",
    "# Stops before"
   ]
  },
  {
   "cell_type": "code",
   "execution_count": null,
   "metadata": {},
   "outputs": [],
   "source": [
    "for n in range(15, 20):\n",
    "  print(n)"
   ]
  },
  {
   "cell_type": "code",
   "execution_count": null,
   "metadata": {},
   "outputs": [],
   "source": [
    "for n in range(20, 15, -2):\n",
    "  print(n)"
   ]
  },
  {
   "cell_type": "code",
   "execution_count": null,
   "metadata": {},
   "outputs": [],
   "source": [
    "for _ in range(2):   # _ is used for a discard\n",
    "  print(\"Hello\")"
   ]
  },
  {
   "cell_type": "markdown",
   "metadata": {},
   "source": [
    "# Lists"
   ]
  },
  {
   "cell_type": "code",
   "execution_count": null,
   "metadata": {},
   "outputs": [],
   "source": [
    "colours = [\"Red\", \"Green\", \"Blue\"]   # Python doesn't have arrays\n",
    "colours.append(\"Yellow\")\n",
    "print(colours[1])\n",
    "\n",
    "print(len(colours))     # Note it's len(colours) not colours.length\n",
    "print(type(colours))\n",
    "\n",
    "for colour in colours:\n",
    "  print(colour)\n",
    "\n",
    "#print(colours[-1])  # Last element,  like ^1 in c#"
   ]
  },
  {
   "cell_type": "code",
   "execution_count": null,
   "metadata": {},
   "outputs": [],
   "source": [
    "a = [0] * 10\n",
    "print(a)"
   ]
  },
  {
   "cell_type": "markdown",
   "metadata": {},
   "source": [
    "# Slices"
   ]
  },
  {
   "cell_type": "code",
   "execution_count": null,
   "metadata": {},
   "outputs": [],
   "source": [
    "letters = [\"a\", \"b\", \"c\", \"d\", \"e\", \"f\", \"g\", \"h\", \"i\", \"j\", \"k\", \"l\", \"m\", \"n\", \"o\", \"p\", \"q\", \"r\", \"s\", \"t\", \"u\", \"v\", \"w\", \"x\", \"y\", \"z\"]\n",
    "print(letters)\n"
   ]
  },
  {
   "cell_type": "code",
   "execution_count": null,
   "metadata": {},
   "outputs": [],
   "source": [
    "\n",
    "# Lots of built-in functions - but you have to find them!\n",
    "import string  # <- note the import like a using statement\n",
    "letters2 = list(string.ascii_lowercase)\n",
    "print(letters2)\n",
    "\n",
    "help(string)\n",
    "\n",
    "# What does mean?\n",
    "# for letter in letters[::-1]\n",
    "#   print(letter)\n"
   ]
  },
  {
   "cell_type": "code",
   "execution_count": null,
   "metadata": {},
   "outputs": [],
   "source": [
    "for letter in letters[:5]:\n",
    "  print(letter)"
   ]
  },
  {
   "cell_type": "code",
   "execution_count": null,
   "metadata": {},
   "outputs": [],
   "source": [
    "for letter in letters[2:5]:\n",
    "  print(letter)"
   ]
  },
  {
   "cell_type": "code",
   "execution_count": null,
   "metadata": {},
   "outputs": [],
   "source": [
    "for letter in letters[:15:2]:\n",
    "  print(letter)"
   ]
  },
  {
   "cell_type": "code",
   "execution_count": null,
   "metadata": {},
   "outputs": [],
   "source": [
    "# What does mean?\n",
    "for letter in letters[::-1]:\n",
    "  print(letter)"
   ]
  },
  {
   "cell_type": "code",
   "execution_count": null,
   "metadata": {},
   "outputs": [],
   "source": [
    "\n",
    "\n",
    "# string.join(letters, \"-\")\n",
    "\"-\".join(letters)"
   ]
  },
  {
   "cell_type": "markdown",
   "metadata": {},
   "source": [
    "# List comprehensions"
   ]
  },
  {
   "cell_type": "code",
   "execution_count": null,
   "metadata": {},
   "outputs": [],
   "source": [
    "# What about linq?\n",
    "# select aka map,  from,  where\n",
    "[letter for letter in letters]\n"
   ]
  },
  {
   "cell_type": "code",
   "execution_count": null,
   "metadata": {},
   "outputs": [],
   "source": [
    "\n",
    "[letter.upper() for letter in letters]"
   ]
  },
  {
   "cell_type": "code",
   "execution_count": null,
   "metadata": {},
   "outputs": [],
   "source": [
    "[letter.upper() for letter in letters if letter < 'm']"
   ]
  },
  {
   "cell_type": "code",
   "execution_count": null,
   "metadata": {},
   "outputs": [],
   "source": [
    "[letter.upper() for letter in letters[::-1] if letter < 'm']"
   ]
  },
  {
   "cell_type": "code",
   "execution_count": null,
   "metadata": {},
   "outputs": [],
   "source": [
    "\n",
    "# But we calculate letter.upper() twice\n",
    "[letter.upper() for letter in letters if letter.upper() < 'M']"
   ]
  },
  {
   "cell_type": "code",
   "execution_count": null,
   "metadata": {},
   "outputs": [],
   "source": [
    "\n",
    "# := is called the walrus operator\n",
    "[l for letter in letters if (l := letter.upper()) < 'M']"
   ]
  },
  {
   "cell_type": "code",
   "execution_count": null,
   "metadata": {},
   "outputs": [],
   "source": [
    "# Nested\n",
    "words = [\"hello\", \"world\", \"this\", \"is\", \"a\", \"sentence\"]\n",
    "[letter for word in words for letter in word]"
   ]
  },
  {
   "cell_type": "markdown",
   "metadata": {},
   "source": [
    "# Dictionaries"
   ]
  },
  {
   "cell_type": "code",
   "execution_count": null,
   "metadata": {},
   "outputs": [],
   "source": [
    "\n",
    "a_dict = { \"David\": \"York\",\n",
    "           \"Kevin\": \"London\" }\n",
    "\n",
    "len(a_dict)\n"
   ]
  },
  {
   "cell_type": "code",
   "execution_count": null,
   "metadata": {},
   "outputs": [],
   "source": [
    "\n",
    "a_dict[\"David\"]\n"
   ]
  },
  {
   "cell_type": "code",
   "execution_count": null,
   "metadata": {},
   "outputs": [],
   "source": [
    "if \"David\" in a_dict:\n",
    "  print(\"David is in the dictionary\")\n",
    "\n",
    "\n",
    "if \"Frank\" not in a_dict:\n",
    "  print(\"Frank is NOT in the dictionary\")\n",
    "\n"
   ]
  },
  {
   "cell_type": "code",
   "execution_count": null,
   "metadata": {},
   "outputs": [],
   "source": [
    "# name is the key\n",
    "for name in a_dict:\n",
    "  print(name, a_dict[name])"
   ]
  },
  {
   "cell_type": "code",
   "execution_count": null,
   "metadata": {},
   "outputs": [],
   "source": [
    "for name, city in a_dict.items():\n",
    "  print(name, city)\n",
    "\n",
    "for nc in a_dict.items():\n",
    "  print(type(nc))\n",
    "\n",
    "# It's a tuple!"
   ]
  },
  {
   "cell_type": "code",
   "execution_count": null,
   "metadata": {},
   "outputs": [],
   "source": [
    "\n",
    "# This returns a list,  but I want a dictionary\n",
    "a_list = [letter.upper() for letter in letters if letter < 'm']\n"
   ]
  },
  {
   "cell_type": "code",
   "execution_count": null,
   "metadata": {},
   "outputs": [],
   "source": [
    "\n",
    "a_dict = {letter: letter.upper() for letter in letters if letter < 'm'}"
   ]
  },
  {
   "cell_type": "markdown",
   "metadata": {},
   "source": [
    "# Exercise"
   ]
  },
  {
   "cell_type": "code",
   "execution_count": null,
   "metadata": {},
   "outputs": [],
   "source": [
    "\n",
    "# Number of A,B and Cs in this string\n",
    "text = \"AAAAABBBCCCCAAAABBBCCCCAAABBBCCCC\""
   ]
  },
  {
   "cell_type": "code",
   "execution_count": null,
   "metadata": {},
   "outputs": [],
   "source": [
    "\n",
    "# First attempt\n",
    "counts = dict()\n",
    "for s in text:\n",
    "  if s in counts:\n",
    "    counts[s] += 1\n",
    "  else:\n",
    "    counts[s] = 1\n",
    "\n",
    "print(counts)\n"
   ]
  },
  {
   "cell_type": "code",
   "execution_count": null,
   "metadata": {},
   "outputs": [],
   "source": [
    "\n",
    "\n",
    "# Second attempt\n",
    "from typing import DefaultDict  #Reference other modules/packages\n",
    "counts = DefaultDict(int) # Explain\n",
    "for s in text:\n",
    "  counts[s] += 1\n",
    "\n",
    "print(counts)\n"
   ]
  },
  {
   "cell_type": "code",
   "execution_count": null,
   "metadata": {},
   "outputs": [],
   "source": [
    "\n",
    "# Third attempt\n",
    "\n",
    "from collections import Counter\n",
    "counts = Counter(text)\n",
    "counts\n",
    "# counts[\"A\"]\n",
    "\n"
   ]
  },
  {
   "cell_type": "markdown",
   "metadata": {},
   "source": [
    "# Functions"
   ]
  },
  {
   "cell_type": "code",
   "execution_count": null,
   "metadata": {},
   "outputs": [],
   "source": [
    "\n",
    "def add(a, b):        # naming convention (lower case with _)\n",
    "  return a + b        # <- note the indentation\n",
    "                      # Needs return keyword\n"
   ]
  },
  {
   "cell_type": "code",
   "execution_count": null,
   "metadata": {},
   "outputs": [],
   "source": [
    "\n",
    "\n",
    "print(add(1, 2))\n"
   ]
  },
  {
   "cell_type": "code",
   "execution_count": null,
   "metadata": {},
   "outputs": [],
   "source": [
    "\n",
    "print(add(\"Hello \",\"World\"))\n"
   ]
  },
  {
   "cell_type": "code",
   "execution_count": null,
   "metadata": {},
   "outputs": [],
   "source": [
    "\n",
    "add(\"David\",1)\n"
   ]
  },
  {
   "cell_type": "code",
   "execution_count": null,
   "metadata": {},
   "outputs": [],
   "source": [
    "\n",
    "print(type(add(1, 2)))\n",
    "print(type(add(\"David\",\"Kevin\")))"
   ]
  },
  {
   "cell_type": "markdown",
   "metadata": {},
   "source": [
    "# Classes"
   ]
  },
  {
   "cell_type": "code",
   "execution_count": null,
   "metadata": {},
   "outputs": [],
   "source": [
    "class Car:\n",
    "  pass                    # <- note the indentation.   Must have a body - hence pass\n"
   ]
  },
  {
   "cell_type": "code",
   "execution_count": null,
   "metadata": {},
   "outputs": [],
   "source": [
    "\n",
    "class Car:\n",
    "  # A bit like a c'tor\n",
    "  def __init__(self, owner, colour, length_in_meters):\n",
    "    self.owner = owner\n",
    "    self.colour = colour\n",
    "    self.length_in_meters = length_in_meters\n",
    "  \n",
    "  # All instance methods take self as the first parameter\n",
    "  def start_engine(self):\n",
    "    print(\"Starting engine\")\n",
    "  \n",
    "  def stop_engine(self):\n",
    "    print(\"Stopping engine\")\n",
    "\n",
    "  # Like overloading ToString()\n",
    "  def __str__(self):\n",
    "    return f\"{self.owner}'s {self.colour} car\"\n",
    "\n",
    "  def __repr__(self) -> str:\n",
    "    return self.owner\n",
    "\n",
    "  def __len__(self):\n",
    "    return self.length_in_meters\n",
    "  "
   ]
  },
  {
   "cell_type": "code",
   "execution_count": null,
   "metadata": {},
   "outputs": [],
   "source": [
    "\n",
    "\n",
    "davids_car = Car(\"David\", \"Red\", 2)\n",
    "rebeccas_car = Car(\"Rebecca\", \"Blue\", 3)\n",
    "print(davids_car.owner)\n",
    "len(davids_car)\n"
   ]
  },
  {
   "cell_type": "code",
   "execution_count": null,
   "metadata": {},
   "outputs": [],
   "source": [
    "def break_car():\n",
    "  print(\"Car is broken\")\n",
    "\n",
    "# python is dynamic\n",
    "rebeccas_car.start_engine = break_car\n",
    "\n",
    "davids_car.start_engine()\n",
    "rebeccas_car.start_engine()\n",
    "# makes mocking easy!\n"
   ]
  },
  {
   "cell_type": "code",
   "execution_count": null,
   "metadata": {},
   "outputs": [],
   "source": [
    "\n",
    "# lambda syntax (can add args)\n",
    "rebeccas_car.start_engine = lambda: print(\"Engine broken\")\n",
    "rebeccas_car.start_engine()\n"
   ]
  },
  {
   "cell_type": "markdown",
   "metadata": {},
   "source": [
    "# args and kwargs"
   ]
  },
  {
   "cell_type": "code",
   "execution_count": null,
   "metadata": {},
   "outputs": [],
   "source": [
    "# A lot of methods will have this signature\n",
    "def a_method(*args, **kwargs):\n",
    "\n",
    "\n",
    "  for arg in args:\n",
    "    print(arg)\n",
    "\n",
    "  for name in kwargs:\n",
    "    print(name, kwargs[name])\n",
    "\n",
    "a_method(1,2,3, name=\"David\", City=\"York\")"
   ]
  },
  {
   "cell_type": "markdown",
   "metadata": {},
   "source": [
    "# Tuples and Deconstruction"
   ]
  },
  {
   "cell_type": "code",
   "execution_count": null,
   "metadata": {},
   "outputs": [],
   "source": [
    "\n",
    "def another_method(name, age):\n",
    "  print(f\"{name} is {age}\")\n",
    "\n",
    "a_tuple = (\"David\", 46)\n",
    " \n",
    "another_method(a_tuple[0], a_tuple[1])"
   ]
  },
  {
   "cell_type": "code",
   "execution_count": null,
   "metadata": {},
   "outputs": [],
   "source": [
    "another_method(*a_tuple)"
   ]
  },
  {
   "cell_type": "markdown",
   "metadata": {},
   "source": [
    "# Typing hints"
   ]
  },
  {
   "cell_type": "code",
   "execution_count": null,
   "metadata": {},
   "outputs": [],
   "source": [
    "\n",
    "def capital_letters(text):\n",
    "  return text[0].upper() + text[1:].lower()\n",
    "\n",
    "print(capital_letters(\"david\"))\n",
    "print(capital_letters(123))   # Runtime error\n"
   ]
  },
  {
   "cell_type": "code",
   "execution_count": null,
   "metadata": {},
   "outputs": [],
   "source": [
    "\n",
    "# We can add a hint.  (Must be enabled in VS Code settings)\n",
    "def capital_letters2(text: str) -> str:\n",
    "  return text[0].upper() + text[1:].lower()\n",
    "\n",
    "print(capital_letters2(\"david\"))\n",
    "print(capital_letters2(123))"
   ]
  },
  {
   "cell_type": "code",
   "execution_count": null,
   "metadata": {},
   "outputs": [],
   "source": [
    "\n",
    "# Another example\n",
    "def none_is_blank(text):\n",
    "  if text is None:\n",
    "    return \"\"\n",
    "  else:\n",
    "    return text\n",
    "\n",
    "name = None\n",
    "print(none_is_blank(name))\n"
   ]
  },
  {
   "cell_type": "code",
   "execution_count": null,
   "metadata": {},
   "outputs": [],
   "source": [
    "\n",
    "\n",
    "# What do we add for the typing hints?  str gives an error\n",
    "def none_is_blank(text: str):\n",
    "  if text is None:\n",
    "    return 1\n",
    "  else:\n",
    "    return text\n",
    "\n",
    "print(none_is_blank(name))\n",
    "\n",
    "# Optional is really Union[None, str]\n",
    "# Add that. (from typing import Optional)\n",
    "\n"
   ]
  },
  {
   "cell_type": "code",
   "execution_count": null,
   "metadata": {},
   "outputs": [],
   "source": [
    "\n",
    "def assign_address_to_person(person_id: int, address_id: int):\n",
    "  print(\"Person\", person_id)\n",
    "  print(\"Address\", address_id)\n",
    "\n",
    "\n",
    "david = 1234\n",
    "york = 5678\n",
    "\n",
    "assign_address_to_person(york, david)\n",
    "\n"
   ]
  },
  {
   "cell_type": "code",
   "execution_count": null,
   "metadata": {},
   "outputs": [],
   "source": [
    "\n",
    "from typing import NewType\n",
    "\n",
    "AddressId = NewType(\"AddressId\", int)\n",
    "PersonId = NewType(\"PersonId\", int)\n",
    "\n",
    "\n",
    "def assign_address_to_person(person_id: PersonId, address_id: AddressId):\n",
    "  print(\"Person\", person_id)\n",
    "  print(\"Address\", address_id)\n",
    "\n",
    "david = PersonId(1234)\n",
    "york = AddressId(5678)\n",
    "\n",
    "assign_address_to_person(york, david)\n",
    "\n",
    "assign_address_to_person(david, york)\n",
    "\n",
    "print(type(david))\n",
    "print(type(york))\n",
    "\n",
    "# Performance"
   ]
  },
  {
   "cell_type": "markdown",
   "metadata": {},
   "source": [
    "# Interfaces"
   ]
  },
  {
   "cell_type": "code",
   "execution_count": null,
   "metadata": {},
   "outputs": [],
   "source": [
    "from typing import Protocol\n",
    "\n",
    "class DatabaseAccess(Protocol):\n",
    "  def get_person(self, person_id: int) -> str:\n",
    "    ...   # dots mean abstract\n",
    "\n",
    "# Implementation\n",
    "class MemoryAccess():\n",
    "  def get_person(self, person_id: int) -> str:\n",
    "    return \"David\"\n",
    "\n",
    "\n",
    "def do_something(db: DatabaseAccess, person_id: int):\n",
    "  name = db.get_person(person_id)\n",
    "  print(name)\n",
    "\n",
    "do_something(MemoryAccess(), 1234)    \n",
    "\n",
    "# rename get_person to get an error message\n",
    "\n"
   ]
  },
  {
   "cell_type": "markdown",
   "metadata": {},
   "source": [
    "# Generics"
   ]
  },
  {
   "cell_type": "code",
   "execution_count": null,
   "metadata": {},
   "outputs": [],
   "source": [
    "from typing import TypeVar\n",
    "\n",
    "T = TypeVar('T')\n",
    "def coalesce(first: T, second: T) -> T:\n",
    "  return first if first is not None else second\n",
    "\n",
    "# Bit limited,  as restrictions cannot be applied,  ie can't do where T is int\n"
   ]
  }
 ],
 "metadata": {
  "interpreter": {
   "hash": "e4c7135e59d78bbf6a10e6135669292320ac149bbd17ef7d03bc75323d3d0b08"
  },
  "kernelspec": {
   "display_name": "Python 3.9.12 64-bit (windows store)",
   "language": "python",
   "name": "python3"
  },
  "language_info": {
   "codemirror_mode": {
    "name": "ipython",
    "version": 3
   },
   "file_extension": ".py",
   "mimetype": "text/x-python",
   "name": "python",
   "nbconvert_exporter": "python",
   "pygments_lexer": "ipython3",
   "version": "3.9.12"
  },
  "orig_nbformat": 4
 },
 "nbformat": 4,
 "nbformat_minor": 2
}
